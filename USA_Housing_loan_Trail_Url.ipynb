{
  "nbformat": 4,
  "nbformat_minor": 0,
  "metadata": {
    "colab": {
      "name": "USA Housing loan.ipynb",
      "version": "0.3.2",
      "provenance": [],
      "collapsed_sections": [],
      "include_colab_link": true
    },
    "kernelspec": {
      "name": "python3",
      "display_name": "Python 3"
    }
  },
  "cells": [
    {
      "cell_type": "markdown",
      "metadata": {
        "id": "view-in-github",
        "colab_type": "text"
      },
      "source": [
        "<a href=\"https://colab.research.google.com/github/Muralimekala/python/blob/master/USA_Housing_loan_Trail_Url.ipynb\" target=\"_parent\"><img src=\"https://colab.research.google.com/assets/colab-badge.svg\" alt=\"Open In Colab\"/></a>"
      ]
    },
    {
      "metadata": {
        "id": "ZASCnnBq1kXD",
        "colab_type": "code",
        "colab": {}
      },
      "cell_type": "code",
      "source": [
        "import numpy as np\n",
        "import pandas as pd\n",
        "from pandas import Series, DataFrame\n",
        "from sklearn.model_selection import train_test_split\n",
        "import seaborn as sns\n",
        "%matplotlib inline\n"
      ],
      "execution_count": 0,
      "outputs": []
    },
    {
      "metadata": {
        "id": "0ICQnNIB1rrE",
        "colab_type": "code",
        "outputId": "90cdc241-f47a-43a7-8b54-f47a2841d0f0",
        "colab": {
          "base_uri": "https://localhost:8080/",
          "height": 477
        }
      },
      "cell_type": "code",
      "source": [
        "url = 'https://raw.githubusercontent.com/Muralimekala/pythontrain/master/USA_Housing.csv'\n",
        "df = pd.read_csv(url)\n",
        "#USA_Housing.CSV\n",
        "df.head(10)\n",
        "#print(\"\\n\")\n",
        "#print(df)"
      ],
      "execution_count": 2,
      "outputs": [
        {
          "output_type": "execute_result",
          "data": {
            "text/html": [
              "<div>\n",
              "<style scoped>\n",
              "    .dataframe tbody tr th:only-of-type {\n",
              "        vertical-align: middle;\n",
              "    }\n",
              "\n",
              "    .dataframe tbody tr th {\n",
              "        vertical-align: top;\n",
              "    }\n",
              "\n",
              "    .dataframe thead th {\n",
              "        text-align: right;\n",
              "    }\n",
              "</style>\n",
              "<table border=\"1\" class=\"dataframe\">\n",
              "  <thead>\n",
              "    <tr style=\"text-align: right;\">\n",
              "      <th></th>\n",
              "      <th>Avg. Area Income</th>\n",
              "      <th>Avg. Area House Age</th>\n",
              "      <th>Avg. Area Number of Rooms</th>\n",
              "      <th>Avg. Area Number of Bedrooms</th>\n",
              "      <th>Area Population</th>\n",
              "      <th>Price</th>\n",
              "      <th>Address</th>\n",
              "    </tr>\n",
              "  </thead>\n",
              "  <tbody>\n",
              "    <tr>\n",
              "      <th>0</th>\n",
              "      <td>79545.458574</td>\n",
              "      <td>5.682861</td>\n",
              "      <td>7.009188</td>\n",
              "      <td>4.09</td>\n",
              "      <td>23086.800503</td>\n",
              "      <td>1.059034e+06</td>\n",
              "      <td>208 Michael Ferry Apt. 674\\nLaurabury, NE 3701...</td>\n",
              "    </tr>\n",
              "    <tr>\n",
              "      <th>1</th>\n",
              "      <td>79248.642455</td>\n",
              "      <td>6.002900</td>\n",
              "      <td>6.730821</td>\n",
              "      <td>3.09</td>\n",
              "      <td>40173.072174</td>\n",
              "      <td>1.505891e+06</td>\n",
              "      <td>188 Johnson Views Suite 079\\nLake Kathleen, CA...</td>\n",
              "    </tr>\n",
              "    <tr>\n",
              "      <th>2</th>\n",
              "      <td>61287.067179</td>\n",
              "      <td>5.865890</td>\n",
              "      <td>8.512727</td>\n",
              "      <td>5.13</td>\n",
              "      <td>36882.159400</td>\n",
              "      <td>1.058988e+06</td>\n",
              "      <td>9127 Elizabeth Stravenue\\nDanieltown, WI 06482...</td>\n",
              "    </tr>\n",
              "    <tr>\n",
              "      <th>3</th>\n",
              "      <td>63345.240046</td>\n",
              "      <td>7.188236</td>\n",
              "      <td>5.586729</td>\n",
              "      <td>3.26</td>\n",
              "      <td>34310.242831</td>\n",
              "      <td>1.260617e+06</td>\n",
              "      <td>USS Barnett\\nFPO AP 44820</td>\n",
              "    </tr>\n",
              "    <tr>\n",
              "      <th>4</th>\n",
              "      <td>59982.197226</td>\n",
              "      <td>5.040555</td>\n",
              "      <td>7.839388</td>\n",
              "      <td>4.23</td>\n",
              "      <td>26354.109472</td>\n",
              "      <td>6.309435e+05</td>\n",
              "      <td>USNS Raymond\\nFPO AE 09386</td>\n",
              "    </tr>\n",
              "    <tr>\n",
              "      <th>5</th>\n",
              "      <td>80175.754159</td>\n",
              "      <td>4.988408</td>\n",
              "      <td>6.104512</td>\n",
              "      <td>4.04</td>\n",
              "      <td>26748.428425</td>\n",
              "      <td>1.068138e+06</td>\n",
              "      <td>06039 Jennifer Islands Apt. 443\\nTracyport, KS...</td>\n",
              "    </tr>\n",
              "    <tr>\n",
              "      <th>6</th>\n",
              "      <td>64698.463428</td>\n",
              "      <td>6.025336</td>\n",
              "      <td>8.147760</td>\n",
              "      <td>3.41</td>\n",
              "      <td>60828.249085</td>\n",
              "      <td>1.502056e+06</td>\n",
              "      <td>4759 Daniel Shoals Suite 442\\nNguyenburgh, CO ...</td>\n",
              "    </tr>\n",
              "    <tr>\n",
              "      <th>7</th>\n",
              "      <td>78394.339278</td>\n",
              "      <td>6.989780</td>\n",
              "      <td>6.620478</td>\n",
              "      <td>2.42</td>\n",
              "      <td>36516.358972</td>\n",
              "      <td>1.573937e+06</td>\n",
              "      <td>972 Joyce Viaduct\\nLake William, TN 17778-6483</td>\n",
              "    </tr>\n",
              "    <tr>\n",
              "      <th>8</th>\n",
              "      <td>59927.660813</td>\n",
              "      <td>5.362126</td>\n",
              "      <td>6.393121</td>\n",
              "      <td>2.30</td>\n",
              "      <td>29387.396003</td>\n",
              "      <td>7.988695e+05</td>\n",
              "      <td>USS Gilbert\\nFPO AA 20957</td>\n",
              "    </tr>\n",
              "    <tr>\n",
              "      <th>9</th>\n",
              "      <td>81885.927184</td>\n",
              "      <td>4.423672</td>\n",
              "      <td>8.167688</td>\n",
              "      <td>6.10</td>\n",
              "      <td>40149.965749</td>\n",
              "      <td>1.545155e+06</td>\n",
              "      <td>Unit 9446 Box 0958\\nDPO AE 97025</td>\n",
              "    </tr>\n",
              "  </tbody>\n",
              "</table>\n",
              "</div>"
            ],
            "text/plain": [
              "   Avg. Area Income  Avg. Area House Age  Avg. Area Number of Rooms  \\\n",
              "0      79545.458574             5.682861                   7.009188   \n",
              "1      79248.642455             6.002900                   6.730821   \n",
              "2      61287.067179             5.865890                   8.512727   \n",
              "3      63345.240046             7.188236                   5.586729   \n",
              "4      59982.197226             5.040555                   7.839388   \n",
              "5      80175.754159             4.988408                   6.104512   \n",
              "6      64698.463428             6.025336                   8.147760   \n",
              "7      78394.339278             6.989780                   6.620478   \n",
              "8      59927.660813             5.362126                   6.393121   \n",
              "9      81885.927184             4.423672                   8.167688   \n",
              "\n",
              "   Avg. Area Number of Bedrooms  Area Population         Price  \\\n",
              "0                          4.09     23086.800503  1.059034e+06   \n",
              "1                          3.09     40173.072174  1.505891e+06   \n",
              "2                          5.13     36882.159400  1.058988e+06   \n",
              "3                          3.26     34310.242831  1.260617e+06   \n",
              "4                          4.23     26354.109472  6.309435e+05   \n",
              "5                          4.04     26748.428425  1.068138e+06   \n",
              "6                          3.41     60828.249085  1.502056e+06   \n",
              "7                          2.42     36516.358972  1.573937e+06   \n",
              "8                          2.30     29387.396003  7.988695e+05   \n",
              "9                          6.10     40149.965749  1.545155e+06   \n",
              "\n",
              "                                             Address  \n",
              "0  208 Michael Ferry Apt. 674\\nLaurabury, NE 3701...  \n",
              "1  188 Johnson Views Suite 079\\nLake Kathleen, CA...  \n",
              "2  9127 Elizabeth Stravenue\\nDanieltown, WI 06482...  \n",
              "3                          USS Barnett\\nFPO AP 44820  \n",
              "4                         USNS Raymond\\nFPO AE 09386  \n",
              "5  06039 Jennifer Islands Apt. 443\\nTracyport, KS...  \n",
              "6  4759 Daniel Shoals Suite 442\\nNguyenburgh, CO ...  \n",
              "7     972 Joyce Viaduct\\nLake William, TN 17778-6483  \n",
              "8                          USS Gilbert\\nFPO AA 20957  \n",
              "9                   Unit 9446 Box 0958\\nDPO AE 97025  "
            ]
          },
          "metadata": {
            "tags": []
          },
          "execution_count": 2
        }
      ]
    },
    {
      "metadata": {
        "id": "IAGTI68a3YfT",
        "colab_type": "code",
        "outputId": "5407c491-2856-4bd3-eb28-7f5adf39ffa2",
        "colab": {
          "base_uri": "https://localhost:8080/",
          "height": 294
        }
      },
      "cell_type": "code",
      "source": [
        "df.describe()"
      ],
      "execution_count": 0,
      "outputs": [
        {
          "output_type": "execute_result",
          "data": {
            "text/html": [
              "<div>\n",
              "<style scoped>\n",
              "    .dataframe tbody tr th:only-of-type {\n",
              "        vertical-align: middle;\n",
              "    }\n",
              "\n",
              "    .dataframe tbody tr th {\n",
              "        vertical-align: top;\n",
              "    }\n",
              "\n",
              "    .dataframe thead th {\n",
              "        text-align: right;\n",
              "    }\n",
              "</style>\n",
              "<table border=\"1\" class=\"dataframe\">\n",
              "  <thead>\n",
              "    <tr style=\"text-align: right;\">\n",
              "      <th></th>\n",
              "      <th>Avg. Area Income</th>\n",
              "      <th>Avg. Area House Age</th>\n",
              "      <th>Avg. Area Number of Rooms</th>\n",
              "      <th>Avg. Area Number of Bedrooms</th>\n",
              "      <th>Area Population</th>\n",
              "      <th>Price</th>\n",
              "    </tr>\n",
              "  </thead>\n",
              "  <tbody>\n",
              "    <tr>\n",
              "      <th>count</th>\n",
              "      <td>5000.000000</td>\n",
              "      <td>5000.000000</td>\n",
              "      <td>5000.000000</td>\n",
              "      <td>5000.000000</td>\n",
              "      <td>5000.000000</td>\n",
              "      <td>5.000000e+03</td>\n",
              "    </tr>\n",
              "    <tr>\n",
              "      <th>mean</th>\n",
              "      <td>68583.108984</td>\n",
              "      <td>5.977222</td>\n",
              "      <td>6.987792</td>\n",
              "      <td>3.981330</td>\n",
              "      <td>36163.516039</td>\n",
              "      <td>1.232073e+06</td>\n",
              "    </tr>\n",
              "    <tr>\n",
              "      <th>std</th>\n",
              "      <td>10657.991214</td>\n",
              "      <td>0.991456</td>\n",
              "      <td>1.005833</td>\n",
              "      <td>1.234137</td>\n",
              "      <td>9925.650114</td>\n",
              "      <td>3.531176e+05</td>\n",
              "    </tr>\n",
              "    <tr>\n",
              "      <th>min</th>\n",
              "      <td>17796.631190</td>\n",
              "      <td>2.644304</td>\n",
              "      <td>3.236194</td>\n",
              "      <td>2.000000</td>\n",
              "      <td>172.610686</td>\n",
              "      <td>1.593866e+04</td>\n",
              "    </tr>\n",
              "    <tr>\n",
              "      <th>25%</th>\n",
              "      <td>61480.562388</td>\n",
              "      <td>5.322283</td>\n",
              "      <td>6.299250</td>\n",
              "      <td>3.140000</td>\n",
              "      <td>29403.928702</td>\n",
              "      <td>9.975771e+05</td>\n",
              "    </tr>\n",
              "    <tr>\n",
              "      <th>50%</th>\n",
              "      <td>68804.286404</td>\n",
              "      <td>5.970429</td>\n",
              "      <td>7.002902</td>\n",
              "      <td>4.050000</td>\n",
              "      <td>36199.406689</td>\n",
              "      <td>1.232669e+06</td>\n",
              "    </tr>\n",
              "    <tr>\n",
              "      <th>75%</th>\n",
              "      <td>75783.338666</td>\n",
              "      <td>6.650808</td>\n",
              "      <td>7.665871</td>\n",
              "      <td>4.490000</td>\n",
              "      <td>42861.290769</td>\n",
              "      <td>1.471210e+06</td>\n",
              "    </tr>\n",
              "    <tr>\n",
              "      <th>max</th>\n",
              "      <td>107701.748378</td>\n",
              "      <td>9.519088</td>\n",
              "      <td>10.759588</td>\n",
              "      <td>6.500000</td>\n",
              "      <td>69621.713378</td>\n",
              "      <td>2.469066e+06</td>\n",
              "    </tr>\n",
              "  </tbody>\n",
              "</table>\n",
              "</div>"
            ],
            "text/plain": [
              "       Avg. Area Income  Avg. Area House Age  Avg. Area Number of Rooms  \\\n",
              "count       5000.000000          5000.000000                5000.000000   \n",
              "mean       68583.108984             5.977222                   6.987792   \n",
              "std        10657.991214             0.991456                   1.005833   \n",
              "min        17796.631190             2.644304                   3.236194   \n",
              "25%        61480.562388             5.322283                   6.299250   \n",
              "50%        68804.286404             5.970429                   7.002902   \n",
              "75%        75783.338666             6.650808                   7.665871   \n",
              "max       107701.748378             9.519088                  10.759588   \n",
              "\n",
              "       Avg. Area Number of Bedrooms  Area Population         Price  \n",
              "count                   5000.000000      5000.000000  5.000000e+03  \n",
              "mean                       3.981330     36163.516039  1.232073e+06  \n",
              "std                        1.234137      9925.650114  3.531176e+05  \n",
              "min                        2.000000       172.610686  1.593866e+04  \n",
              "25%                        3.140000     29403.928702  9.975771e+05  \n",
              "50%                        4.050000     36199.406689  1.232669e+06  \n",
              "75%                        4.490000     42861.290769  1.471210e+06  \n",
              "max                        6.500000     69621.713378  2.469066e+06  "
            ]
          },
          "metadata": {
            "tags": []
          },
          "execution_count": 3
        }
      ]
    },
    {
      "metadata": {
        "id": "11XaVz4e3rQu",
        "colab_type": "code",
        "outputId": "0b8e904a-9f50-475c-e571-0e1d917d182f",
        "colab": {
          "base_uri": "https://localhost:8080/",
          "height": 225
        }
      },
      "cell_type": "code",
      "source": [
        "df.info()"
      ],
      "execution_count": 0,
      "outputs": [
        {
          "output_type": "stream",
          "text": [
            "<class 'pandas.core.frame.DataFrame'>\n",
            "RangeIndex: 5000 entries, 0 to 4999\n",
            "Data columns (total 7 columns):\n",
            "Avg. Area Income                5000 non-null float64\n",
            "Avg. Area House Age             5000 non-null float64\n",
            "Avg. Area Number of Rooms       5000 non-null float64\n",
            "Avg. Area Number of Bedrooms    5000 non-null float64\n",
            "Area Population                 5000 non-null float64\n",
            "Price                           5000 non-null float64\n",
            "Address                         5000 non-null object\n",
            "dtypes: float64(6), object(1)\n",
            "memory usage: 273.5+ KB\n"
          ],
          "name": "stdout"
        }
      ]
    },
    {
      "metadata": {
        "id": "SguLjloF4VZu",
        "colab_type": "text"
      },
      "cell_type": "markdown",
      "source": [
        "# Data  Pre processing"
      ]
    },
    {
      "metadata": {
        "id": "qkHpOw-S4erC",
        "colab_type": "code",
        "outputId": "bbcea925-8714-4b4f-a895-368ab4e61287",
        "colab": {
          "base_uri": "https://localhost:8080/",
          "height": 202
        }
      },
      "cell_type": "code",
      "source": [
        "## Remove unnecessary variables\n",
        "df.drop(['Address'], axis=1, inplace=True)\n",
        "df.head()\n",
        "## Remove unnecessary variables\n",
        "#train.drop(['Item_Identifier', 'Outlet_Identifier'], axis=1, inplace=True)\n",
        "#train.head()"
      ],
      "execution_count": 0,
      "outputs": [
        {
          "output_type": "execute_result",
          "data": {
            "text/html": [
              "<div>\n",
              "<style scoped>\n",
              "    .dataframe tbody tr th:only-of-type {\n",
              "        vertical-align: middle;\n",
              "    }\n",
              "\n",
              "    .dataframe tbody tr th {\n",
              "        vertical-align: top;\n",
              "    }\n",
              "\n",
              "    .dataframe thead th {\n",
              "        text-align: right;\n",
              "    }\n",
              "</style>\n",
              "<table border=\"1\" class=\"dataframe\">\n",
              "  <thead>\n",
              "    <tr style=\"text-align: right;\">\n",
              "      <th></th>\n",
              "      <th>Avg. Area Income</th>\n",
              "      <th>Avg. Area House Age</th>\n",
              "      <th>Avg. Area Number of Rooms</th>\n",
              "      <th>Avg. Area Number of Bedrooms</th>\n",
              "      <th>Area Population</th>\n",
              "      <th>Price</th>\n",
              "    </tr>\n",
              "  </thead>\n",
              "  <tbody>\n",
              "    <tr>\n",
              "      <th>0</th>\n",
              "      <td>79545.458574</td>\n",
              "      <td>5.682861</td>\n",
              "      <td>7.009188</td>\n",
              "      <td>4.09</td>\n",
              "      <td>23086.800503</td>\n",
              "      <td>1.059034e+06</td>\n",
              "    </tr>\n",
              "    <tr>\n",
              "      <th>1</th>\n",
              "      <td>79248.642455</td>\n",
              "      <td>6.002900</td>\n",
              "      <td>6.730821</td>\n",
              "      <td>3.09</td>\n",
              "      <td>40173.072174</td>\n",
              "      <td>1.505891e+06</td>\n",
              "    </tr>\n",
              "    <tr>\n",
              "      <th>2</th>\n",
              "      <td>61287.067179</td>\n",
              "      <td>5.865890</td>\n",
              "      <td>8.512727</td>\n",
              "      <td>5.13</td>\n",
              "      <td>36882.159400</td>\n",
              "      <td>1.058988e+06</td>\n",
              "    </tr>\n",
              "    <tr>\n",
              "      <th>3</th>\n",
              "      <td>63345.240046</td>\n",
              "      <td>7.188236</td>\n",
              "      <td>5.586729</td>\n",
              "      <td>3.26</td>\n",
              "      <td>34310.242831</td>\n",
              "      <td>1.260617e+06</td>\n",
              "    </tr>\n",
              "    <tr>\n",
              "      <th>4</th>\n",
              "      <td>59982.197226</td>\n",
              "      <td>5.040555</td>\n",
              "      <td>7.839388</td>\n",
              "      <td>4.23</td>\n",
              "      <td>26354.109472</td>\n",
              "      <td>6.309435e+05</td>\n",
              "    </tr>\n",
              "  </tbody>\n",
              "</table>\n",
              "</div>"
            ],
            "text/plain": [
              "   Avg. Area Income  Avg. Area House Age  Avg. Area Number of Rooms  \\\n",
              "0      79545.458574             5.682861                   7.009188   \n",
              "1      79248.642455             6.002900                   6.730821   \n",
              "2      61287.067179             5.865890                   8.512727   \n",
              "3      63345.240046             7.188236                   5.586729   \n",
              "4      59982.197226             5.040555                   7.839388   \n",
              "\n",
              "   Avg. Area Number of Bedrooms  Area Population         Price  \n",
              "0                          4.09     23086.800503  1.059034e+06  \n",
              "1                          3.09     40173.072174  1.505891e+06  \n",
              "2                          5.13     36882.159400  1.058988e+06  \n",
              "3                          3.26     34310.242831  1.260617e+06  \n",
              "4                          4.23     26354.109472  6.309435e+05  "
            ]
          },
          "metadata": {
            "tags": []
          },
          "execution_count": 5
        }
      ]
    },
    {
      "metadata": {
        "id": "4XtE5sNsukZ7",
        "colab_type": "code",
        "outputId": "6e60d797-fa2e-499b-e209-6be0a9822115",
        "colab": {
          "base_uri": "https://localhost:8080/",
          "height": 83
        }
      },
      "cell_type": "code",
      "source": [
        "## Deal with Missing values\n",
        "\n",
        "def missing_values_table(df):\n",
        "        # Total missing values\n",
        "        mis_val = df.isnull().sum()\n",
        "        \n",
        "        # Percentage of missing values\n",
        "        mis_val_percent = 100 * df.isnull().sum() / len(df)\n",
        "        \n",
        "        # Make a table with the results\n",
        "        mis_val_table = pd.concat([mis_val, mis_val_percent], axis=1)\n",
        "        \n",
        "        # Rename the columns\n",
        "        mis_val_table_ren_columns = mis_val_table.rename(\n",
        "        columns = {0 : 'Missing Values', 1 : '% of Total Values'})\n",
        "        \n",
        "        # Sort the table by percentage of missing descending\n",
        "        mis_val_table_ren_columns = mis_val_table_ren_columns[\n",
        "            mis_val_table_ren_columns.iloc[:,1] != 0].sort_values(\n",
        "        '% of Total Values', ascending=False).round(1)\n",
        "        \n",
        "        # Print some summary information\n",
        "        print (\"Your selected dataframe has \" + str(df.shape[1]) + \" columns.\\n\"      \n",
        "            \"There are \" + str(mis_val_table_ren_columns.shape[0]) +\n",
        "              \" columns that have missing values.\")\n",
        "        \n",
        "        # Return the dataframe with missing information\n",
        "        return mis_val_table_ren_columns\n",
        "\n",
        "missing_values_table(df) ## Pass your dataset name"
      ],
      "execution_count": 3,
      "outputs": [
        {
          "output_type": "stream",
          "text": [
            "Your selected dataframe has 7 columns.\n",
            "There are 0 columns that have missing values.\n"
          ],
          "name": "stdout"
        },
        {
          "output_type": "execute_result",
          "data": {
            "text/html": [
              "<div>\n",
              "<style scoped>\n",
              "    .dataframe tbody tr th:only-of-type {\n",
              "        vertical-align: middle;\n",
              "    }\n",
              "\n",
              "    .dataframe tbody tr th {\n",
              "        vertical-align: top;\n",
              "    }\n",
              "\n",
              "    .dataframe thead th {\n",
              "        text-align: right;\n",
              "    }\n",
              "</style>\n",
              "<table border=\"1\" class=\"dataframe\">\n",
              "  <thead>\n",
              "    <tr style=\"text-align: right;\">\n",
              "      <th></th>\n",
              "      <th>Missing Values</th>\n",
              "      <th>% of Total Values</th>\n",
              "    </tr>\n",
              "  </thead>\n",
              "  <tbody>\n",
              "  </tbody>\n",
              "</table>\n",
              "</div>"
            ],
            "text/plain": [
              "Empty DataFrame\n",
              "Columns: [Missing Values, % of Total Values]\n",
              "Index: []"
            ]
          },
          "metadata": {
            "tags": []
          },
          "execution_count": 3
        }
      ]
    },
    {
      "metadata": {
        "id": "gZeeE2gAvWef",
        "colab_type": "code",
        "outputId": "210b0a5b-982c-469e-ff4d-945a57c49325",
        "colab": {
          "base_uri": "https://localhost:8080/",
          "height": 414
        }
      },
      "cell_type": "code",
      "source": [
        "missingdata=df.isnull()\n",
        "sns.heatmap(missingdata,yticklabels=False,cbar=False)"
      ],
      "execution_count": 0,
      "outputs": [
        {
          "output_type": "execute_result",
          "data": {
            "text/plain": [
              "<matplotlib.axes._subplots.AxesSubplot at 0x7fb4336a1c88>"
            ]
          },
          "metadata": {
            "tags": []
          },
          "execution_count": 8
        },
        {
          "output_type": "display_data",
          "data": {
            "image/png": "[encoded data removed]",
            "text/plain": [
              "<Figure size 432x288 with 1 Axes>"
            ]
          },
          "metadata": {
            "tags": []
          }
        }
      ]
    },
    {
      "metadata": {
        "id": "fuusfeTEvxp5",
        "colab_type": "code",
        "outputId": "41e9d890-3f3b-482f-b4db-e207bb1003a5",
        "colab": {
          "base_uri": "https://localhost:8080/",
          "height": 202
        }
      },
      "cell_type": "code",
      "source": [
        "df.head()"
      ],
      "execution_count": 0,
      "outputs": [
        {
          "output_type": "execute_result",
          "data": {
            "text/html": [
              "<div>\n",
              "<style scoped>\n",
              "    .dataframe tbody tr th:only-of-type {\n",
              "        vertical-align: middle;\n",
              "    }\n",
              "\n",
              "    .dataframe tbody tr th {\n",
              "        vertical-align: top;\n",
              "    }\n",
              "\n",
              "    .dataframe thead th {\n",
              "        text-align: right;\n",
              "    }\n",
              "</style>\n",
              "<table border=\"1\" class=\"dataframe\">\n",
              "  <thead>\n",
              "    <tr style=\"text-align: right;\">\n",
              "      <th></th>\n",
              "      <th>Avg. Area Income</th>\n",
              "      <th>Avg. Area House Age</th>\n",
              "      <th>Avg. Area Number of Rooms</th>\n",
              "      <th>Avg. Area Number of Bedrooms</th>\n",
              "      <th>Area Population</th>\n",
              "      <th>Price</th>\n",
              "    </tr>\n",
              "  </thead>\n",
              "  <tbody>\n",
              "    <tr>\n",
              "      <th>0</th>\n",
              "      <td>79545.458574</td>\n",
              "      <td>5.682861</td>\n",
              "      <td>7.009188</td>\n",
              "      <td>4.09</td>\n",
              "      <td>23086.800503</td>\n",
              "      <td>1.059034e+06</td>\n",
              "    </tr>\n",
              "    <tr>\n",
              "      <th>1</th>\n",
              "      <td>79248.642455</td>\n",
              "      <td>6.002900</td>\n",
              "      <td>6.730821</td>\n",
              "      <td>3.09</td>\n",
              "      <td>40173.072174</td>\n",
              "      <td>1.505891e+06</td>\n",
              "    </tr>\n",
              "    <tr>\n",
              "      <th>2</th>\n",
              "      <td>61287.067179</td>\n",
              "      <td>5.865890</td>\n",
              "      <td>8.512727</td>\n",
              "      <td>5.13</td>\n",
              "      <td>36882.159400</td>\n",
              "      <td>1.058988e+06</td>\n",
              "    </tr>\n",
              "    <tr>\n",
              "      <th>3</th>\n",
              "      <td>63345.240046</td>\n",
              "      <td>7.188236</td>\n",
              "      <td>5.586729</td>\n",
              "      <td>3.26</td>\n",
              "      <td>34310.242831</td>\n",
              "      <td>1.260617e+06</td>\n",
              "    </tr>\n",
              "    <tr>\n",
              "      <th>4</th>\n",
              "      <td>59982.197226</td>\n",
              "      <td>5.040555</td>\n",
              "      <td>7.839388</td>\n",
              "      <td>4.23</td>\n",
              "      <td>26354.109472</td>\n",
              "      <td>6.309435e+05</td>\n",
              "    </tr>\n",
              "  </tbody>\n",
              "</table>\n",
              "</div>"
            ],
            "text/plain": [
              "   Avg. Area Income  Avg. Area House Age  Avg. Area Number of Rooms  \\\n",
              "0      79545.458574             5.682861                   7.009188   \n",
              "1      79248.642455             6.002900                   6.730821   \n",
              "2      61287.067179             5.865890                   8.512727   \n",
              "3      63345.240046             7.188236                   5.586729   \n",
              "4      59982.197226             5.040555                   7.839388   \n",
              "\n",
              "   Avg. Area Number of Bedrooms  Area Population         Price  \n",
              "0                          4.09     23086.800503  1.059034e+06  \n",
              "1                          3.09     40173.072174  1.505891e+06  \n",
              "2                          5.13     36882.159400  1.058988e+06  \n",
              "3                          3.26     34310.242831  1.260617e+06  \n",
              "4                          4.23     26354.109472  6.309435e+05  "
            ]
          },
          "metadata": {
            "tags": []
          },
          "execution_count": 9
        }
      ]
    },
    {
      "metadata": {
        "id": "uHBty3HjwPyf",
        "colab_type": "code",
        "outputId": "c98f56cf-ba41-44e3-fb51-b0e3e416064e",
        "colab": {
          "base_uri": "https://localhost:8080/",
          "height": 202
        }
      },
      "cell_type": "code",
      "source": [
        "X = df.drop('Price', 1)\n",
        "X.head()"
      ],
      "execution_count": 0,
      "outputs": [
        {
          "output_type": "execute_result",
          "data": {
            "text/html": [
              "<div>\n",
              "<style scoped>\n",
              "    .dataframe tbody tr th:only-of-type {\n",
              "        vertical-align: middle;\n",
              "    }\n",
              "\n",
              "    .dataframe tbody tr th {\n",
              "        vertical-align: top;\n",
              "    }\n",
              "\n",
              "    .dataframe thead th {\n",
              "        text-align: right;\n",
              "    }\n",
              "</style>\n",
              "<table border=\"1\" class=\"dataframe\">\n",
              "  <thead>\n",
              "    <tr style=\"text-align: right;\">\n",
              "      <th></th>\n",
              "      <th>Avg. Area Income</th>\n",
              "      <th>Avg. Area House Age</th>\n",
              "      <th>Avg. Area Number of Rooms</th>\n",
              "      <th>Avg. Area Number of Bedrooms</th>\n",
              "      <th>Area Population</th>\n",
              "    </tr>\n",
              "  </thead>\n",
              "  <tbody>\n",
              "    <tr>\n",
              "      <th>0</th>\n",
              "      <td>79545.458574</td>\n",
              "      <td>5.682861</td>\n",
              "      <td>7.009188</td>\n",
              "      <td>4.09</td>\n",
              "      <td>23086.800503</td>\n",
              "    </tr>\n",
              "    <tr>\n",
              "      <th>1</th>\n",
              "      <td>79248.642455</td>\n",
              "      <td>6.002900</td>\n",
              "      <td>6.730821</td>\n",
              "      <td>3.09</td>\n",
              "      <td>40173.072174</td>\n",
              "    </tr>\n",
              "    <tr>\n",
              "      <th>2</th>\n",
              "      <td>61287.067179</td>\n",
              "      <td>5.865890</td>\n",
              "      <td>8.512727</td>\n",
              "      <td>5.13</td>\n",
              "      <td>36882.159400</td>\n",
              "    </tr>\n",
              "    <tr>\n",
              "      <th>3</th>\n",
              "      <td>63345.240046</td>\n",
              "      <td>7.188236</td>\n",
              "      <td>5.586729</td>\n",
              "      <td>3.26</td>\n",
              "      <td>34310.242831</td>\n",
              "    </tr>\n",
              "    <tr>\n",
              "      <th>4</th>\n",
              "      <td>59982.197226</td>\n",
              "      <td>5.040555</td>\n",
              "      <td>7.839388</td>\n",
              "      <td>4.23</td>\n",
              "      <td>26354.109472</td>\n",
              "    </tr>\n",
              "  </tbody>\n",
              "</table>\n",
              "</div>"
            ],
            "text/plain": [
              "   Avg. Area Income  Avg. Area House Age  Avg. Area Number of Rooms  \\\n",
              "0      79545.458574             5.682861                   7.009188   \n",
              "1      79248.642455             6.002900                   6.730821   \n",
              "2      61287.067179             5.865890                   8.512727   \n",
              "3      63345.240046             7.188236                   5.586729   \n",
              "4      59982.197226             5.040555                   7.839388   \n",
              "\n",
              "   Avg. Area Number of Bedrooms  Area Population  \n",
              "0                          4.09     23086.800503  \n",
              "1                          3.09     40173.072174  \n",
              "2                          5.13     36882.159400  \n",
              "3                          3.26     34310.242831  \n",
              "4                          4.23     26354.109472  "
            ]
          },
          "metadata": {
            "tags": []
          },
          "execution_count": 12
        }
      ]
    },
    {
      "metadata": {
        "id": "3WenY7rpw2CR",
        "colab_type": "code",
        "outputId": "36077cc9-b91d-4987-8784-1e38163bfbe7",
        "colab": {
          "base_uri": "https://localhost:8080/",
          "height": 121
        }
      },
      "cell_type": "code",
      "source": [
        "from statsmodels.stats.outliers_influence import variance_inflation_factor\n",
        "vif = [variance_inflation_factor(X.values, i) for i in range(X.shape[1])] ## Replace X with your indepedent data type\n",
        "vif_s =pd.Series(vif, index =X.columns)\n",
        "print(vif_s)"
      ],
      "execution_count": 0,
      "outputs": [
        {
          "output_type": "stream",
          "text": [
            "Avg. Area Income                29.650899\n",
            "Avg. Area House Age             27.447775\n",
            "Avg. Area Number of Rooms       45.257291\n",
            "Avg. Area Number of Bedrooms    14.537873\n",
            "Area Population                 12.825450\n",
            "dtype: float64\n"
          ],
          "name": "stdout"
        }
      ]
    },
    {
      "metadata": {
        "id": "67JWJyB3xYfp",
        "colab_type": "code",
        "outputId": "708a121d-f146-4002-c230-2208ec9bfcde",
        "colab": {
          "base_uri": "https://localhost:8080/",
          "height": 121
        }
      },
      "cell_type": "code",
      "source": [
        "y = df.Price\n",
        "## Perform Train-Test Split\n",
        "X_train, X_test, y_train, y_test = train_test_split(X,y, test_size =0.3)\n",
        "y.head()"
      ],
      "execution_count": 0,
      "outputs": [
        {
          "output_type": "execute_result",
          "data": {
            "text/plain": [
              "0    1.059034e+06\n",
              "1    1.505891e+06\n",
              "2    1.058988e+06\n",
              "3    1.260617e+06\n",
              "4    6.309435e+05\n",
              "Name: Price, dtype: float64"
            ]
          },
          "metadata": {
            "tags": []
          },
          "execution_count": 17
        }
      ]
    },
    {
      "metadata": {
        "id": "q7Br4-Lfx2wj",
        "colab_type": "text"
      },
      "cell_type": "markdown",
      "source": [
        "# Multiple Linear regression"
      ]
    },
    {
      "metadata": {
        "id": "rmxpkQSyyCLK",
        "colab_type": "code",
        "colab": {}
      },
      "cell_type": "code",
      "source": [
        "from sklearn.linear_model import LinearRegression\n",
        "regressor = LinearRegression()\n",
        "regressor.fit(X_train, y_train)\n",
        "y_pred = regressor.predict(X_test)"
      ],
      "execution_count": 0,
      "outputs": []
    },
    {
      "metadata": {
        "id": "gBCY2Ly7yRuz",
        "colab_type": "code",
        "outputId": "c71d8b1b-835a-470a-f199-08ed5c026eaa",
        "colab": {
          "base_uri": "https://localhost:8080/",
          "height": 451
        }
      },
      "cell_type": "code",
      "source": [
        "print(\"Model Performance Test: In terms of Error\")\n",
        "\n",
        "from sklearn import metrics\n",
        "print('MAE:', metrics.mean_absolute_error(y_test, y_pred))\n",
        "print('MSE:', metrics.mean_squared_error(y_test, y_pred))\n",
        "print('RMSE:', np.sqrt(metrics.mean_squared_error(y_test, y_pred)))\n",
        "\n",
        "## Higher the Explained Variance Score, the better the model is:\n",
        "print('Explained Variance Score:', metrics.explained_variance_score(y_test, y_pred)*100)\n",
        "## 95.9% of the variance is explained by the model\n",
        "\n",
        "print(\"\\n\")\n",
        "\n",
        "print(\"Model Performance Test: In terms of Cross validation\")\n",
        "\n",
        "from sklearn.model_selection import cross_val_score \n",
        "regression_avg = cross_val_score(estimator = regressor, X = X_train, y = y_train, cv = 10,scoring='neg_mean_absolute_error') \n",
        "print (\"Cross val Mean Abs Error:\",regression_avg.mean())\n",
        "\n",
        "from sklearn.model_selection import cross_val_score \n",
        "regression_avg = cross_val_score(estimator = regressor, X = X_train, y = y_train, cv = 10,scoring='explained_variance') \n",
        "print (\"Cross Val Explained Variance:\",regression_avg.mean()*100)\n",
        "\n",
        "print(\"\\n\")\n",
        "\n",
        "print(\"Model Performance Test: In terms of r2\")\n",
        "\n",
        "\n",
        "from sklearn.metrics import r2_score \n",
        "print('r2:',r2_score(y_test, y_pred)) ## Closer to 1 means better prediction\n",
        "\n",
        "adj_r2=1 - float(len(y_test)-1)/(len(y_test)-len(regressor.coef_)-1)*(1 - metrics.r2_score(y_test,y_pred))\n",
        "print(\"adj_r2=\",adj_r2) ##Closer to 1 the better the prediction\n",
        "\n",
        "\n",
        "print(\"\\n\")\n",
        "\n",
        "print(\"Model Performance Test: Bias-Variance\")\n",
        "\n",
        "## Bias Variance Test\n",
        "r2_mc_train=regressor.score(X_train,y_train)\n",
        "print(\"Training_r2=\",r2_mc_train)\n",
        "\n",
        "r2_mc_test=regressor.score(X_test,y_test)\n",
        "print(\"Test_r2=\",r2_mc_test)\n",
        "\n",
        "print(\"\\n\")\n",
        "\n",
        "print(\"Model Performance Test: MultiCollinearity\")\n",
        "\n",
        "## Do a multicollinearity test\n",
        "vif_train=1/(1-r2_mc_train) ## to determine multi collinearity. Greater than 5 means very high multi collinearity\n",
        "print(\"VIF Train:\",vif_train)\n",
        "\n",
        "vif_test=1/(1-r2_mc_test) ## to determine multi collinearity. Greater than 5 means very high multi collinearity\n",
        "print(\"VIF Test:\",vif_test)"
      ],
      "execution_count": 0,
      "outputs": [
        {
          "output_type": "stream",
          "text": [
            "Model Performance Test: In terms of Error\n",
            "MAE: 81659.20163294474\n",
            "MSE: 10341014971.35724\n",
            "RMSE: 101690.78115226199\n",
            "Explained Variance Score: 91.40839045147915\n",
            "\n",
            "\n",
            "Model Performance Test: In terms of Cross validation\n",
            "Cross val Mean Abs Error: -81432.15693037343\n",
            "Cross Val Explained Variance: 91.85216264142588\n",
            "\n",
            "\n",
            "Model Performance Test: In terms of r2\n",
            "r2: 0.9140203371658407\n",
            "adj_r2= 0.9137325872902244\n",
            "\n",
            "\n",
            "Model Performance Test: Bias-Variance\n",
            "Training_r2= 0.9195515139598488\n",
            "Test_r2= 0.9140203371658409\n",
            "\n",
            "\n",
            "Model Performance Test: MultiCollinearity\n",
            "VIF Train: 12.430314717183217\n",
            "VIF Test: 11.630657379162304\n"
          ],
          "name": "stdout"
        }
      ]
    },
    {
      "metadata": {
        "id": "5jUqN3Obyb2k",
        "colab_type": "code",
        "colab": {}
      },
      "cell_type": "code",
      "source": [
        "#Obervations\n"
      ],
      "execution_count": 0,
      "outputs": []
    },
    {
      "metadata": {
        "id": "mp2DAkH8yjEx",
        "colab_type": "code",
        "colab": {}
      },
      "cell_type": "code",
      "source": [
        "coeff = DataFrame(X.columns) ## capture all the columns of X"
      ],
      "execution_count": 0,
      "outputs": []
    },
    {
      "metadata": {
        "id": "B-uHu-iMytuo",
        "colab_type": "code",
        "outputId": "d09c6773-00b4-49b2-8de9-de3f60b44206",
        "colab": {
          "base_uri": "https://localhost:8080/",
          "height": 638
        }
      },
      "cell_type": "code",
      "source": [
        "## printing all the co-efficients\n",
        "coeff = DataFrame(X.columns) ## capture all the columns of X\n",
        "coeff['Coefficient Estimate'] = Series(regressor.coef_).sort_values()\n",
        "#print(coeff)\n",
        "\n",
        "#predictors = X_train.columns\n",
        "coef = Series(regressor.coef_,coeff).sort_values()\n",
        "print(coef)\n",
        "\n",
        "\n",
        "coef.plot(kind='bar', title='Modal Coefficients')"
      ],
      "execution_count": 0,
      "outputs": [
        {
          "output_type": "stream",
          "text": [
            "(Area Population, 15.068252068798756)                    15.068252\n",
            "(Avg. Area Income, 21.722601365599157)                   21.722601\n",
            "(Avg. Area Number of Bedrooms, 1724.053734750662)      1724.053735\n",
            "(Avg. Area Number of Rooms, 121130.56380555064)      121130.563806\n",
            "(Avg. Area House Age, 167612.97224435315)            167612.972244\n",
            "dtype: float64\n"
          ],
          "name": "stdout"
        },
        {
          "output_type": "execute_result",
          "data": {
            "text/plain": [
              "<matplotlib.axes._subplots.AxesSubplot at 0x7fb42e4429e8>"
            ]
          },
          "metadata": {
            "tags": []
          },
          "execution_count": 22
        },
        {
          "output_type": "display_data",
          "data": {
            "image/png": "[encoded data removed]",
            "text/plain": [
              "<Figure size 432x288 with 1 Axes>"
            ]
          },
          "metadata": {
            "tags": []
          }
        }
      ]
    },
    {
      "metadata": {
        "id": "JvJ4Ag7py_Ew",
        "colab_type": "text"
      },
      "cell_type": "markdown",
      "source": [
        "# Inference"
      ]
    },
    {
      "metadata": {
        "id": "7rH7z3pqzFGd",
        "colab_type": "code",
        "outputId": "f1acb777-91a9-4a7b-844e-9be5ba2cf3cc",
        "colab": {
          "base_uri": "https://localhost:8080/",
          "height": 69
        }
      },
      "cell_type": "code",
      "source": [
        "## Lets validate it\n",
        "\n",
        "train_inv = pd.read_csv(url) ## Read the data once more\n",
        "\n",
        "print(\"Mean Sales=\",train_inv['Price'].mean())\n",
        "print(\"\\n\")"
      ],
      "execution_count": 0,
      "outputs": [
        {
          "output_type": "stream",
          "text": [
            "Mean Sales= 1232072.65414236\n",
            "\n",
            "\n"
          ],
          "name": "stdout"
        }
      ]
    },
    {
      "metadata": {
        "id": "dx5ceP0Bzcby",
        "colab_type": "text"
      },
      "cell_type": "markdown",
      "source": [
        "## Ridge Regression (Will shrink the coefficients to reduce multicollinearity)\n"
      ]
    },
    {
      "metadata": {
        "id": "HlT_7-8NzfRJ",
        "colab_type": "code",
        "colab": {}
      },
      "cell_type": "code",
      "source": [
        "from sklearn.linear_model import Ridge\n",
        "regressor = Ridge(alpha=0.05, normalize=True) ## play with alpha\n",
        "\n",
        "regressor.fit(X_train, y_train)\n",
        "y_pred = regressor.predict(X_test)"
      ],
      "execution_count": 0,
      "outputs": []
    },
    {
      "metadata": {
        "id": "wEDy3MoxzmoE",
        "colab_type": "code",
        "outputId": "8814dd50-bd43-43d0-9b01-e80e45559a9d",
        "colab": {
          "base_uri": "https://localhost:8080/",
          "height": 485
        }
      },
      "cell_type": "code",
      "source": [
        "print(\"Model Performance Test: In terms of Error\")\n",
        "\n",
        "from sklearn import metrics\n",
        "print('MAE:', metrics.mean_absolute_error(y_test, y_pred))\n",
        "print('MSE:', metrics.mean_squared_error(y_test, y_pred))\n",
        "print('RMSE:', np.sqrt(metrics.mean_squared_error(y_test, y_pred)))\n",
        "\n",
        "print(\"\\n\")\n",
        "\n",
        "print(\"Model Performance Test: In terms of Cross validation\")\n",
        "\n",
        "## Higher the Explained Variance Score, the better the model is:\n",
        "print('Explained Variance Score:', metrics.explained_variance_score(y_test, y_pred)*100)\n",
        "## 95.9% of the variance is explained by the model\n",
        "\n",
        "from sklearn.model_selection import cross_val_score \n",
        "regression_avg_mae = cross_val_score(estimator = regressor, X = X_train, y = y_train, cv = 10,scoring='neg_mean_absolute_error') \n",
        "print (\"Cross val Mean Abs Error:\",regression_avg.mean())\n",
        "\n",
        "from sklearn.model_selection import cross_val_score \n",
        "regression_avg = cross_val_score(estimator = regressor, X = X_train, y = y_train, cv = 10,scoring='explained_variance') \n",
        "print (\"Cross Val Explained Variance:\",regression_avg.mean()*100)\n",
        "\n",
        "print(\"Standard_Dev for Explained Variance=\",regression_avg.std()*100)\n",
        "print(\"Standard_Dev for Mean Abs Error=\",regression_avg_mae.std()*100)\n",
        "\n",
        "print(\"\\n\")\n",
        "\n",
        "print(\"Model Performance Test: In terms of r2\")\n",
        "\n",
        "\n",
        "from sklearn.metrics import r2_score \n",
        "print('r2:',r2_score(y_test, y_pred)) ## Closer to 1 means better prediction\n",
        "\n",
        "adj_r2=1 - float(len(y_test)-1)/(len(y_test)-len(regressor.coef_)-1)*(1 - metrics.r2_score(y_test,y_pred))\n",
        "print(\"adj_r2=\",adj_r2) ##Closer to 1 the better the prediction\n",
        "\n",
        "\n",
        "print(\"\\n\")\n",
        "\n",
        "print(\"Model Performance Test: Bias-Variance\")\n",
        "\n",
        "## Bias Variance Test\n",
        "r2_mc_train=regressor.score(X_train,y_train)\n",
        "print(\"Training_r2=\",r2_mc_train)\n",
        "\n",
        "r2_mc_test=regressor.score(X_test,y_test)\n",
        "print(\"Test_r2=\",r2_mc_test)\n",
        "\n",
        "print(\"\\n\")\n",
        "\n",
        "print(\"Model Performance Test: MultiCollinearity\")\n",
        "\n",
        "## Do a multicollinearity test\n",
        "vif_train=1/(1-r2_mc_train) ## to determine multi collinearity. Greater than 5 means very high multi collinearity\n",
        "print(\"VIF Train:\",vif_train)\n",
        "\n",
        "vif_test=1/(1-r2_mc_test) ## to determine multi collinearity. Greater than 5 means very high multi collinearity\n",
        "print(\"VIF Test:\",vif_test)"
      ],
      "execution_count": 0,
      "outputs": [
        {
          "output_type": "stream",
          "text": [
            "Model Performance Test: In terms of Error\n",
            "MAE: 82332.3550317208\n",
            "MSE: 10448817355.788324\n",
            "RMSE: 102219.45683571364\n",
            "\n",
            "\n",
            "Model Performance Test: In terms of Cross validation\n",
            "Explained Variance Score: 91.31845077350921\n",
            "Cross val Mean Abs Error: 0.9185216264142587\n",
            "Cross Val Explained Variance: 91.62295287642183\n",
            "Standard_Dev for Explained Variance= 1.1299859933059389\n",
            "Standard_Dev for Mean Abs Error= 445730.61596940516\n",
            "\n",
            "\n",
            "Model Performance Test: In terms of r2\n",
            "r2: 0.913124021601868\n",
            "adj_r2= 0.9128332720088355\n",
            "\n",
            "\n",
            "Model Performance Test: Bias-Variance\n",
            "Training_r2= 0.9172873964914595\n",
            "Test_r2= 0.913124021601868\n",
            "\n",
            "\n",
            "Model Performance Test: MultiCollinearity\n",
            "VIF Train: 12.09005589936176\n",
            "VIF Test: 11.51066173225972\n"
          ],
          "name": "stdout"
        }
      ]
    },
    {
      "metadata": {
        "id": "_aGl5VudzzS8",
        "colab_type": "code",
        "outputId": "4df83802-b32e-4ce7-f5d4-b771d264babd",
        "colab": {
          "base_uri": "https://localhost:8080/",
          "height": 533
        }
      },
      "cell_type": "code",
      "source": [
        "coeff = DataFrame(X_train.columns)\n",
        "coeff['Coefficient Estimate'] = Series(regressor.coef_)\n",
        "print(coeff)\n",
        "\n",
        "predictors = X_train.columns\n",
        "coef = Series(regressor.coef_,predictors).sort_values()\n",
        "coef.plot(kind='bar', title='Modal Coefficients')"
      ],
      "execution_count": 0,
      "outputs": [
        {
          "output_type": "stream",
          "text": [
            "                              0  Coefficient Estimate\n",
            "0              Avg. Area Income             20.661876\n",
            "1           Avg. Area House Age         159374.280306\n",
            "2     Avg. Area Number of Rooms         113574.388348\n",
            "3  Avg. Area Number of Bedrooms           4438.844510\n",
            "4               Area Population             14.328953\n"
          ],
          "name": "stdout"
        },
        {
          "output_type": "execute_result",
          "data": {
            "text/plain": [
              "<matplotlib.axes._subplots.AxesSubplot at 0x7fb42bbc1208>"
            ]
          },
          "metadata": {
            "tags": []
          },
          "execution_count": 27
        },
        {
          "output_type": "display_data",
          "data": {
            "image/png": "[encoded data removed]",
            "text/plain": [
              "<Figure size 432x288 with 1 Axes>"
            ]
          },
          "metadata": {
            "tags": []
          }
        }
      ]
    },
    {
      "metadata": {
        "id": "ogvRjDTNz70b",
        "colab_type": "text"
      },
      "cell_type": "markdown",
      "source": [
        "# Lasso Regression (Will eliminate features even at small values of alpha)"
      ]
    },
    {
      "metadata": {
        "id": "2BgDbqEyz-1U",
        "colab_type": "code",
        "outputId": "8c5f9224-ffd6-441e-9c1c-f411dc073f6f",
        "colab": {
          "base_uri": "https://localhost:8080/",
          "height": 451
        }
      },
      "cell_type": "code",
      "source": [
        "from sklearn.linear_model import Lasso\n",
        "regressor = Lasso(alpha=0.3, normalize=True) ## play with alpha\n",
        "regressor.fit(X_train, y_train)\n",
        "y_pred = regressor.predict(X_test)\n",
        "\n",
        "print(\"Model Performance Test: In terms of Error\")\n",
        "\n",
        "### same old code\n",
        "\n",
        "from sklearn import metrics\n",
        "print('MAE:', metrics.mean_absolute_error(y_test, y_pred))\n",
        "print('MSE:', metrics.mean_squared_error(y_test, y_pred))\n",
        "print('RMSE:', np.sqrt(metrics.mean_squared_error(y_test, y_pred)))\n",
        "\n",
        "print(\"\\n\")\n",
        "\n",
        "print(\"Model Performance Test: In terms of Cross validation\")\n",
        "\n",
        "## Higher the Explained Variance Score, the better the model is:\n",
        "print('Explained Variance Score:', metrics.explained_variance_score(y_test, y_pred)*100)\n",
        "## 95.9% of the variance is explained by the model\n",
        "\n",
        "from sklearn.model_selection import cross_val_score \n",
        "regression_avg = cross_val_score(estimator = regressor, X = X_train, y = y_train, cv = 10,scoring='neg_mean_absolute_error') \n",
        "print (\"Cross val Mean Abs Error:\",regression_avg.mean())\n",
        "\n",
        "from sklearn.model_selection import cross_val_score \n",
        "regression_avg = cross_val_score(estimator = regressor, X = X_train, y = y_train, cv = 10,scoring='explained_variance') \n",
        "print (\"Cross Val Explained Variance:\",regression_avg.mean()*100)\n",
        "\n",
        "print(\"\\n\")\n",
        "\n",
        "print(\"Model Performance Test: In terms of r2\")\n",
        "\n",
        "\n",
        "from sklearn.metrics import r2_score \n",
        "print('r2:',r2_score(y_test, y_pred)) ## Closer to 1 means better prediction\n",
        "\n",
        "adj_r2=1 - float(len(y_test)-1)/(len(y_test)-len(regressor.coef_)-1)*(1 - metrics.r2_score(y_test,y_pred))\n",
        "print(\"adj_r2=\",adj_r2) ##Closer to 1 the better the prediction\n",
        "\n",
        "\n",
        "print(\"\\n\")\n",
        "\n",
        "print(\"Model Performance Test: Bias-Variance\")\n",
        "\n",
        "## Bias Variance Test\n",
        "r2_mc_train=regressor.score(X_train,y_train)\n",
        "print(\"Training_r2=\",r2_mc_train)\n",
        "\n",
        "r2_mc_test=regressor.score(X_test,y_test)\n",
        "print(\"Test_r2=\",r2_mc_test)\n",
        "\n",
        "print(\"\\n\")\n",
        "\n",
        "print(\"Model Performance Test: MultiCollinearity\")\n",
        "\n",
        "## Do a multicollinearity test\n",
        "vif_train=1/(1-r2_mc_train) ## to determine multi collinearity. Greater than 5 means very high multi collinearity\n",
        "print(\"VIF Train:\",vif_train)\n",
        "\n",
        "vif_test=1/(1-r2_mc_test) ## to determine multi collinearity. Greater than 5 means very high multi collinearity\n",
        "print(\"VIF Test:\",vif_test)"
      ],
      "execution_count": 0,
      "outputs": [
        {
          "output_type": "stream",
          "text": [
            "Model Performance Test: In terms of Error\n",
            "MAE: 81658.05065420171\n",
            "MSE: 10340709569.606226\n",
            "RMSE: 101689.27952152197\n",
            "\n",
            "\n",
            "Model Performance Test: In terms of Cross validation\n",
            "Explained Variance Score: 91.40864444647839\n",
            "Cross val Mean Abs Error: -81432.37261745942\n",
            "Cross Val Explained Variance: 91.85215313576155\n",
            "\n",
            "\n",
            "Model Performance Test: In terms of r2\n",
            "r2: 0.914022876407845\n",
            "adj_r2= 0.9137351350303612\n",
            "\n",
            "\n",
            "Model Performance Test: Bias-Variance\n",
            "Training_r2= 0.9195515036221871\n",
            "Test_r2= 0.9140228764078449\n",
            "\n",
            "\n",
            "Model Performance Test: MultiCollinearity\n",
            "VIF Train: 12.430313119883149\n",
            "VIF Test: 11.631000878136419\n"
          ],
          "name": "stdout"
        }
      ]
    },
    {
      "metadata": {
        "id": "VUzOhmpO0MQE",
        "colab_type": "code",
        "outputId": "fb07f624-aa24-4b49-b36b-02394eef39f4",
        "colab": {
          "base_uri": "https://localhost:8080/",
          "height": 429
        }
      },
      "cell_type": "code",
      "source": [
        "predictors = X_train.columns\n",
        "coef = Series(regressor.coef_,predictors).sort_values()\n",
        "coef.plot(kind='bar', title='Modal Coefficients')"
      ],
      "execution_count": 0,
      "outputs": [
        {
          "output_type": "execute_result",
          "data": {
            "text/plain": [
              "<matplotlib.axes._subplots.AxesSubplot at 0x7fb42baaaa90>"
            ]
          },
          "metadata": {
            "tags": []
          },
          "execution_count": 29
        },
        {
          "output_type": "display_data",
          "data": {
            "image/png": "[encoded data removed]",
            "text/plain": [
              "<Figure size 432x288 with 1 Axes>"
            ]
          },
          "metadata": {
            "tags": []
          }
        }
      ]
    },
    {
      "metadata": {
        "id": "yYjP5n2J0Zkd",
        "colab_type": "text"
      },
      "cell_type": "markdown",
      "source": [
        "# ElasticNet (Best of Lasso and Ridge)\n"
      ]
    },
    {
      "metadata": {
        "id": "gCYB724J0dST",
        "colab_type": "code",
        "outputId": "8cabf078-ed34-487b-a286-d25f0a993857",
        "colab": {
          "base_uri": "https://localhost:8080/",
          "height": 451
        }
      },
      "cell_type": "code",
      "source": [
        "from sklearn.linear_model import ElasticNet\n",
        "regressor = ElasticNet(alpha=0.8, l1_ratio=0.3,normalize=False) ## play with alpha and l1_ratio\n",
        "regressor.fit(X_train, y_train)\n",
        "y_pred = regressor.predict(X_test)\n",
        "\n",
        "print(\"Model Performance Test: In terms of Error\")\n",
        "\n",
        "### same old code\n",
        "\n",
        "from sklearn import metrics\n",
        "print('MAE:', metrics.mean_absolute_error(y_test, y_pred))\n",
        "print('MSE:', metrics.mean_squared_error(y_test, y_pred))\n",
        "print('RMSE:', np.sqrt(metrics.mean_squared_error(y_test, y_pred)))\n",
        "\n",
        "print(\"\\n\")\n",
        "\n",
        "print(\"Model Performance Test: In terms of Cross validation\")\n",
        "\n",
        "## Higher the Explained Variance Score, the better the model is:\n",
        "print('Explained Variance Score:', metrics.explained_variance_score(y_test, y_pred)*100)\n",
        "## 95.9% of the variance is explained by the model\n",
        "\n",
        "from sklearn.model_selection import cross_val_score \n",
        "regression_avg = cross_val_score(estimator = regressor, X = X_train, y = y_train, cv = 10,scoring='neg_mean_absolute_error') \n",
        "print (\"Cross val Mean Abs Error:\",regression_avg.mean())\n",
        "\n",
        "from sklearn.model_selection import cross_val_score \n",
        "regression_avg = cross_val_score(estimator = regressor, X = X_train, y = y_train, cv = 10,scoring='explained_variance') \n",
        "print (\"Cross Val Explained Variance:\",regression_avg.mean()*100)\n",
        "\n",
        "print(\"\\n\")\n",
        "\n",
        "print(\"Model Performance Test: In terms of r2\")\n",
        "\n",
        "\n",
        "from sklearn.metrics import r2_score \n",
        "print('r2:',r2_score(y_test, y_pred)) ## Closer to 1 means better prediction\n",
        "\n",
        "adj_r2=1 - float(len(y_test)-1)/(len(y_test)-len(regressor.coef_)-1)*(1 - metrics.r2_score(y_test,y_pred))\n",
        "print(\"adj_r2=\",adj_r2) ##Closer to 1 the better the prediction\n",
        "\n",
        "\n",
        "print(\"\\n\")\n",
        "\n",
        "print(\"Model Performance Test: Bias-Variance\")\n",
        "\n",
        "## Bias Variance Test\n",
        "r2_mc_train=regressor.score(X_train,y_train)\n",
        "print(\"Training_r2=\",r2_mc_train)\n",
        "\n",
        "r2_mc_test=regressor.score(X_test,y_test)\n",
        "print(\"Test_r2=\",r2_mc_test)\n",
        "\n",
        "print(\"\\n\")\n",
        "\n",
        "print(\"Model Performance Test: MultiCollinearity\")\n",
        "\n",
        "## Do a multicollinearity test\n",
        "vif_train=1/(1-r2_mc_train) ## to determine multi collinearity. Greater than 5 means very high multi collinearity\n",
        "print(\"VIF Train:\",vif_train)\n",
        "\n",
        "vif_test=1/(1-r2_mc_test) ## to determine multi collinearity. Greater than 5 means very high multi collinearity\n",
        "print(\"VIF Test:\",vif_test)"
      ],
      "execution_count": 0,
      "outputs": [
        {
          "output_type": "stream",
          "text": [
            "Model Performance Test: In terms of Error\n",
            "MAE: 99695.3935339245\n",
            "MSE: 15272472795.409613\n",
            "RMSE: 123581.84654474788\n",
            "\n",
            "\n",
            "Model Performance Test: In terms of Cross validation\n",
            "Explained Variance Score: 87.31115571989405\n",
            "Cross val Mean Abs Error: -100907.37107647551\n",
            "Cross Val Explained Variance: 87.44344568221841\n",
            "\n",
            "\n",
            "Model Performance Test: In terms of r2\n",
            "r2: 0.8730180678366387\n",
            "adj_r2= 0.8725930948374306\n",
            "\n",
            "\n",
            "Model Performance Test: Bias-Variance\n",
            "Training_r2= 0.8758624033205243\n",
            "Test_r2= 0.8730180678366386\n",
            "\n",
            "\n",
            "Model Performance Test: MultiCollinearity\n",
            "VIF Train: 8.05557725257086\n",
            "VIF Test: 7.875136115534191\n"
          ],
          "name": "stdout"
        }
      ]
    },
    {
      "metadata": {
        "id": "uayQ08Uq0kC5",
        "colab_type": "code",
        "outputId": "6ba606e0-e939-410c-9fe8-7f1e81435fde",
        "colab": {
          "base_uri": "https://localhost:8080/",
          "height": 429
        }
      },
      "cell_type": "code",
      "source": [
        "predictors = X_train.columns\n",
        "coef = Series(regressor.coef_,predictors).sort_values()\n",
        "coef.plot(kind='bar', title='Modal Coefficients')"
      ],
      "execution_count": 0,
      "outputs": [
        {
          "output_type": "execute_result",
          "data": {
            "text/plain": [
              "<matplotlib.axes._subplots.AxesSubplot at 0x7fb42ba15fd0>"
            ]
          },
          "metadata": {
            "tags": []
          },
          "execution_count": 31
        },
        {
          "output_type": "display_data",
          "data": {
            "image/png": "[encoded data removed]",
            "text/plain": [
              "<Figure size 432x288 with 1 Axes>"
            ]
          },
          "metadata": {
            "tags": []
          }
        }
      ]
    },
    {
      "metadata": {
        "id": "h8Ak0JmI0yZw",
        "colab_type": "text"
      },
      "cell_type": "markdown",
      "source": [
        "# xgboost"
      ]
    },
    {
      "metadata": {
        "id": "H-WfqurZ00kV",
        "colab_type": "code",
        "colab": {}
      },
      "cell_type": "code",
      "source": [
        "from xgboost import XGBClassifier\n",
        "classifier = XGBClassifier()\n",
        "classifier.fit(X_train, y_train)\n",
        "\n",
        "# Making the Confusion Matrix\n",
        "\n",
        "from sklearn.metrics import confusion_matrix,classification_report\n",
        "cm = confusion_matrix(y_test, y_pred)\n",
        "print(cm)\n",
        "print(classification_report(y_test, y_pred))\n",
        "\n",
        "\n",
        "# Applying k-Fold Cross Validation using AUC-ROC Curve \n",
        "#https://towardsdatascience.com/understanding-auc-roc-curve-68b2303cc9c5\n",
        "\n",
        "from sklearn.model_selection import cross_val_score\n",
        "accuracies = cross_val_score(estimator = classifier, X = X_train, y = y_train, cv = 10)\n",
        "\n",
        "mean_score = cross_val_score(estimator = classifier, X = X_train, y = y_train, scoring=\"roc_auc\", cv = 7).mean()\n",
        "std_score = cross_val_score(estimator = classifier, X = X_train, y = y_train, scoring=\"roc_auc\", cv = 7).std()\n",
        "\n",
        "\n",
        "print (\"Accuracy=\",mean_score*100)\n",
        "print(\"Standard Deviation\",std_score*100)"
      ],
      "execution_count": 0,
      "outputs": []
    },
    {
      "metadata": {
        "id": "ra4bt7r91IFs",
        "colab_type": "code",
        "colab": {}
      },
      "cell_type": "code",
      "source": [
        "import xgboost as xgb\n",
        "regressor= xgb.XGBRegressor()#max_features=0.8\n",
        "regressor.fit(X_train, y_train)\n",
        "y_pred = regressor.predict(X_test)"
      ],
      "execution_count": 0,
      "outputs": []
    },
    {
      "metadata": {
        "id": "mdynTGzr1LP0",
        "colab_type": "code",
        "colab": {}
      },
      "cell_type": "code",
      "source": [
        "\n",
        "from sklearn import metrics\n",
        "print('MAE:', metrics.mean_absolute_error(y_test, y_pred))\n",
        "print('MSE:', metrics.mean_squared_error(y_test, y_pred))\n",
        "print('RMSE:', np.sqrt(metrics.mean_squared_error(y_test, y_pred)))\n",
        "\n",
        "print(\"\\n\")\n",
        "\n",
        "print(\"Model Performance Test: In terms of Cross validation\")\n",
        "\n",
        "## Higher the Explained Variance Score, the better the model is:\n",
        "print('Explained Variance Score:', metrics.explained_variance_score(y_test, y_pred)*100)\n",
        "## 95.9% of the variance is explained by the model\n",
        "\n",
        "from sklearn.model_selection import cross_val_score \n",
        "regression_avg = cross_val_score(estimator = regressor, X = X_train, y = y_train, cv = 10,scoring='neg_mean_absolute_error') \n",
        "print (\"Cross val Mean Abs Error:\",regression_avg.mean())\n",
        "\n",
        "from sklearn.model_selection import cross_val_score \n",
        "regression_avg = cross_val_score(estimator = regressor, X = X_train, y = y_train, cv = 10,scoring='explained_variance') \n",
        "print (\"Cross Val Explained Variance:\",regression_avg.mean()*100)\n",
        "\n",
        "print(\"\\n\")\n",
        "\n",
        "print(\"Model Performance Test: In terms of r2\")\n",
        "\n",
        "\n",
        "from sklearn.metrics import r2_score \n",
        "print('r2:',r2_score(y_test, y_pred)) ## Closer to 1 means better prediction\n",
        "\n",
        "#adj_r2=1 - float(len(y_test)-1)/(len(y_test)-len(regressor.coef_)-1)*(1 - metrics.r2_score(y_test,y_pred))\n",
        "#print(\"adj_r2=\",adj_r2) ##Closer to 1 the better the prediction\n",
        "\n",
        "\n",
        "print(\"\\n\")\n",
        "\n",
        "print(\"Model Performance Test: Bias-Variance\")\n",
        "\n",
        "## Bias Variance Test\n",
        "r2_mc_train=regressor.score(X_train,y_train)\n",
        "print(\"Training_r2=\",r2_mc_train)\n",
        "\n",
        "r2_mc_test=regressor.score(X_test,y_test)\n",
        "print(\"Test_r2=\",r2_mc_test)\n",
        "\n",
        "print(\"\\n\")\n",
        "\n",
        "print(\"Model Performance Test: MultiCollinearity\")\n",
        "\n",
        "## Do a multicollinearity test\n",
        "vif_train=1/(1-r2_mc_train) ## to determine multi collinearity. Greater than 5 means very high multi collinearity\n",
        "print(\"VIF Train:\",vif_train)\n",
        "\n",
        "vif_test=1/(1-r2_mc_test) ## to determine multi collinearity. Greater than 5 means very high multi collinearity\n",
        "print(\"VIF Test:\",vif_test)"
      ],
      "execution_count": 0,
      "outputs": []
    },
    {
      "metadata": {
        "id": "oQOuHVSy1P8S",
        "colab_type": "code",
        "colab": {}
      },
      "cell_type": "code",
      "source": [
        ""
      ],
      "execution_count": 0,
      "outputs": []
    }
  ]
}